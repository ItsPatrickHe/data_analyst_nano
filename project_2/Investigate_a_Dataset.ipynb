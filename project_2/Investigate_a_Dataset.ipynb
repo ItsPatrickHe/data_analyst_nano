{
 "cells": [
  {
   "cell_type": "markdown",
   "metadata": {},
   "source": [
    "\n",
    "# Project: Investigate the dataset about population growth from Gapminder\n",
    "\n",
    "## Table of Contents\n",
    "<ul>\n",
    "<li><a href=\"#intro\">Introduction</a></li>\n",
    "<li><a href=\"#wrangling\">Data Wrangling</a></li>\n",
    "<li><a href=\"#eda\">Exploratory Data Analysis</a></li>\n",
    "<li><a href=\"#conclusions\">Conclusions</a></li>\n",
    "</ul>"
   ]
  },
  {
   "cell_type": "markdown",
   "metadata": {},
   "source": [
    "<a id='intro'></a>\n",
    "## Introduction\n",
    "\n",
    "> In this report, the datasets of annual population growth, new birth numbers, children per woman and income per person from Gapminder World will be investigated. Gapminder has collected a lot of data about mentioned information about different countries, they combine data from multiple sources into unique coherent time-series. In this analysis, we consider the annual population growth as the dependent variable, and the other indicators as the three independent variables. \n",
    "\n",
    "> To set the goals for the analysis, we raise the following questions:\n",
    "  - How is the population growth affected by the new brith numbers, is the new birth numbers dominating the population growth?\n",
    "  - Is the population growth affected by the children per woman, if so, how are they related?\n",
    "  - Is the population growth affected by the income per person?\n",
    "  - Which factor influences the most on the population growth?\n",
    "  - How is the number of children per woman distributed across the period?\n",
    "  "
   ]
  },
  {
   "cell_type": "code",
   "execution_count": 1,
   "metadata": {},
   "outputs": [],
   "source": [
    "# Import the necessary packages\n",
    "import pandas as pd\n",
    "import numpy as np\n",
    "import matplotlib.pyplot as plt\n",
    "import seaborn as sns\n",
    "% matplotlib inline"
   ]
  },
  {
   "cell_type": "markdown",
   "metadata": {},
   "source": [
    "<a id='wrangling'></a>\n",
    "## Data Wrangling\n",
    "\n",
    "> **Tip**: In this section of the report, you will load in the data, check for cleanliness, and then trim and clean your dataset for analysis. Make sure that you document your steps carefully and justify your cleaning decisions.\n",
    "\n",
    "### General Properties"
   ]
  },
  {
   "cell_type": "markdown",
   "metadata": {},
   "source": [
    "Load the following datasets:\n",
    "   - Population growth (annual %)\n",
    "   - New birth (total number, estimated)\n",
    "   - Children per woman (total fertility)\n",
    "   - Income per person (GDP/capita, PPP$ inflation-adjusted, in international dollars)"
   ]
  },
  {
   "cell_type": "code",
   "execution_count": 2,
   "metadata": {},
   "outputs": [],
   "source": [
    "# Load all the datasets\n",
    "df_ppl_growth = pd.read_csv('population_growth_annual_percent.csv')\n",
    "df_new_birth = pd.read_csv('new_births_total_number_estimated.csv')\n",
    "df_chil_per_woman = pd.read_csv('children_per_woman_total_fertility.csv')\n",
    "df_income_pp = pd.read_csv('income_per_person_gdppercapita_ppp_inflation_adjusted.csv')"
   ]
  },
  {
   "cell_type": "markdown",
   "metadata": {},
   "source": [
    "### Check a few lines of each CSV file"
   ]
  },
  {
   "cell_type": "code",
   "execution_count": 3,
   "metadata": {},
   "outputs": [
    {
     "data": {
      "text/html": [
       "<div>\n",
       "<style scoped>\n",
       "    .dataframe tbody tr th:only-of-type {\n",
       "        vertical-align: middle;\n",
       "    }\n",
       "\n",
       "    .dataframe tbody tr th {\n",
       "        vertical-align: top;\n",
       "    }\n",
       "\n",
       "    .dataframe thead th {\n",
       "        text-align: right;\n",
       "    }\n",
       "</style>\n",
       "<table border=\"1\" class=\"dataframe\">\n",
       "  <thead>\n",
       "    <tr style=\"text-align: right;\">\n",
       "      <th></th>\n",
       "      <th>country</th>\n",
       "      <th>1961</th>\n",
       "      <th>1962</th>\n",
       "      <th>1963</th>\n",
       "      <th>1964</th>\n",
       "      <th>1965</th>\n",
       "      <th>1966</th>\n",
       "      <th>1967</th>\n",
       "      <th>1968</th>\n",
       "      <th>1969</th>\n",
       "      <th>...</th>\n",
       "      <th>2010</th>\n",
       "      <th>2011</th>\n",
       "      <th>2012</th>\n",
       "      <th>2013</th>\n",
       "      <th>2014</th>\n",
       "      <th>2015</th>\n",
       "      <th>2016</th>\n",
       "      <th>2017</th>\n",
       "      <th>2018</th>\n",
       "      <th>2019</th>\n",
       "    </tr>\n",
       "  </thead>\n",
       "  <tbody>\n",
       "    <tr>\n",
       "      <th>0</th>\n",
       "      <td>Afghanistan</td>\n",
       "      <td>0.0190</td>\n",
       "      <td>0.0197</td>\n",
       "      <td>0.0203</td>\n",
       "      <td>0.02090</td>\n",
       "      <td>0.02150</td>\n",
       "      <td>0.02170</td>\n",
       "      <td>0.02190</td>\n",
       "      <td>0.022500</td>\n",
       "      <td>0.02380</td>\n",
       "      <td>...</td>\n",
       "      <td>0.027500</td>\n",
       "      <td>0.03140</td>\n",
       "      <td>0.03410</td>\n",
       "      <td>0.03490</td>\n",
       "      <td>0.03360</td>\n",
       "      <td>0.03080</td>\n",
       "      <td>0.02780</td>\n",
       "      <td>0.02550</td>\n",
       "      <td>0.023800</td>\n",
       "      <td>0.02310</td>\n",
       "    </tr>\n",
       "    <tr>\n",
       "      <th>1</th>\n",
       "      <td>Albania</td>\n",
       "      <td>0.0312</td>\n",
       "      <td>0.0306</td>\n",
       "      <td>0.0295</td>\n",
       "      <td>0.02880</td>\n",
       "      <td>0.02750</td>\n",
       "      <td>0.02630</td>\n",
       "      <td>0.02630</td>\n",
       "      <td>0.028400</td>\n",
       "      <td>0.02900</td>\n",
       "      <td>...</td>\n",
       "      <td>-0.004960</td>\n",
       "      <td>-0.00269</td>\n",
       "      <td>-0.00165</td>\n",
       "      <td>-0.00183</td>\n",
       "      <td>-0.00207</td>\n",
       "      <td>-0.00291</td>\n",
       "      <td>-0.00160</td>\n",
       "      <td>-0.00092</td>\n",
       "      <td>-0.002470</td>\n",
       "      <td>-0.00426</td>\n",
       "    </tr>\n",
       "    <tr>\n",
       "      <th>2</th>\n",
       "      <td>Algeria</td>\n",
       "      <td>0.0249</td>\n",
       "      <td>0.0247</td>\n",
       "      <td>0.0249</td>\n",
       "      <td>0.02560</td>\n",
       "      <td>0.02660</td>\n",
       "      <td>0.02760</td>\n",
       "      <td>0.02850</td>\n",
       "      <td>0.028800</td>\n",
       "      <td>0.02870</td>\n",
       "      <td>...</td>\n",
       "      <td>0.018100</td>\n",
       "      <td>0.01880</td>\n",
       "      <td>0.01950</td>\n",
       "      <td>0.02000</td>\n",
       "      <td>0.02030</td>\n",
       "      <td>0.02050</td>\n",
       "      <td>0.02050</td>\n",
       "      <td>0.02040</td>\n",
       "      <td>0.020100</td>\n",
       "      <td>0.01930</td>\n",
       "    </tr>\n",
       "    <tr>\n",
       "      <th>3</th>\n",
       "      <td>Andorra</td>\n",
       "      <td>0.0694</td>\n",
       "      <td>0.0669</td>\n",
       "      <td>0.0656</td>\n",
       "      <td>0.06240</td>\n",
       "      <td>0.06000</td>\n",
       "      <td>0.05750</td>\n",
       "      <td>0.05500</td>\n",
       "      <td>0.053100</td>\n",
       "      <td>0.05200</td>\n",
       "      <td>...</td>\n",
       "      <td>-0.000166</td>\n",
       "      <td>-0.00835</td>\n",
       "      <td>-0.01590</td>\n",
       "      <td>-0.02030</td>\n",
       "      <td>-0.01950</td>\n",
       "      <td>-0.01530</td>\n",
       "      <td>-0.00919</td>\n",
       "      <td>-0.00384</td>\n",
       "      <td>0.000065</td>\n",
       "      <td>0.00176</td>\n",
       "    </tr>\n",
       "    <tr>\n",
       "      <th>4</th>\n",
       "      <td>Angola</td>\n",
       "      <td>0.0139</td>\n",
       "      <td>0.0138</td>\n",
       "      <td>0.0126</td>\n",
       "      <td>0.00974</td>\n",
       "      <td>0.00618</td>\n",
       "      <td>0.00184</td>\n",
       "      <td>-0.00121</td>\n",
       "      <td>-0.000449</td>\n",
       "      <td>0.00546</td>\n",
       "      <td>...</td>\n",
       "      <td>0.036700</td>\n",
       "      <td>0.03630</td>\n",
       "      <td>0.03600</td>\n",
       "      <td>0.03550</td>\n",
       "      <td>0.03500</td>\n",
       "      <td>0.03440</td>\n",
       "      <td>0.03380</td>\n",
       "      <td>0.03320</td>\n",
       "      <td>0.032800</td>\n",
       "      <td>0.03240</td>\n",
       "    </tr>\n",
       "  </tbody>\n",
       "</table>\n",
       "<p>5 rows × 60 columns</p>\n",
       "</div>"
      ],
      "text/plain": [
       "       country    1961    1962    1963     1964     1965     1966     1967  \\\n",
       "0  Afghanistan  0.0190  0.0197  0.0203  0.02090  0.02150  0.02170  0.02190   \n",
       "1      Albania  0.0312  0.0306  0.0295  0.02880  0.02750  0.02630  0.02630   \n",
       "2      Algeria  0.0249  0.0247  0.0249  0.02560  0.02660  0.02760  0.02850   \n",
       "3      Andorra  0.0694  0.0669  0.0656  0.06240  0.06000  0.05750  0.05500   \n",
       "4       Angola  0.0139  0.0138  0.0126  0.00974  0.00618  0.00184 -0.00121   \n",
       "\n",
       "       1968     1969   ...         2010     2011     2012     2013     2014  \\\n",
       "0  0.022500  0.02380   ...     0.027500  0.03140  0.03410  0.03490  0.03360   \n",
       "1  0.028400  0.02900   ...    -0.004960 -0.00269 -0.00165 -0.00183 -0.00207   \n",
       "2  0.028800  0.02870   ...     0.018100  0.01880  0.01950  0.02000  0.02030   \n",
       "3  0.053100  0.05200   ...    -0.000166 -0.00835 -0.01590 -0.02030 -0.01950   \n",
       "4 -0.000449  0.00546   ...     0.036700  0.03630  0.03600  0.03550  0.03500   \n",
       "\n",
       "      2015     2016     2017      2018     2019  \n",
       "0  0.03080  0.02780  0.02550  0.023800  0.02310  \n",
       "1 -0.00291 -0.00160 -0.00092 -0.002470 -0.00426  \n",
       "2  0.02050  0.02050  0.02040  0.020100  0.01930  \n",
       "3 -0.01530 -0.00919 -0.00384  0.000065  0.00176  \n",
       "4  0.03440  0.03380  0.03320  0.032800  0.03240  \n",
       "\n",
       "[5 rows x 60 columns]"
      ]
     },
     "execution_count": 3,
     "metadata": {},
     "output_type": "execute_result"
    }
   ],
   "source": [
    "df_ppl_growth.head()"
   ]
  },
  {
   "cell_type": "code",
   "execution_count": 4,
   "metadata": {
    "scrolled": true
   },
   "outputs": [
    {
     "data": {
      "text/html": [
       "<div>\n",
       "<style scoped>\n",
       "    .dataframe tbody tr th:only-of-type {\n",
       "        vertical-align: middle;\n",
       "    }\n",
       "\n",
       "    .dataframe tbody tr th {\n",
       "        vertical-align: top;\n",
       "    }\n",
       "\n",
       "    .dataframe thead th {\n",
       "        text-align: right;\n",
       "    }\n",
       "</style>\n",
       "<table border=\"1\" class=\"dataframe\">\n",
       "  <thead>\n",
       "    <tr style=\"text-align: right;\">\n",
       "      <th></th>\n",
       "      <th>country</th>\n",
       "      <th>1800</th>\n",
       "      <th>1801</th>\n",
       "      <th>1802</th>\n",
       "      <th>1803</th>\n",
       "      <th>1804</th>\n",
       "      <th>1805</th>\n",
       "      <th>1806</th>\n",
       "      <th>1807</th>\n",
       "      <th>1808</th>\n",
       "      <th>...</th>\n",
       "      <th>2006</th>\n",
       "      <th>2007</th>\n",
       "      <th>2008</th>\n",
       "      <th>2009</th>\n",
       "      <th>2010</th>\n",
       "      <th>2011</th>\n",
       "      <th>2012</th>\n",
       "      <th>2013</th>\n",
       "      <th>2014</th>\n",
       "      <th>2015</th>\n",
       "    </tr>\n",
       "  </thead>\n",
       "  <tbody>\n",
       "    <tr>\n",
       "      <th>0</th>\n",
       "      <td>Afghanistan</td>\n",
       "      <td>158000.0</td>\n",
       "      <td>158000.0</td>\n",
       "      <td>158000.0</td>\n",
       "      <td>158000.0</td>\n",
       "      <td>158000.0</td>\n",
       "      <td>158000.0</td>\n",
       "      <td>158000.0</td>\n",
       "      <td>158000.0</td>\n",
       "      <td>158000.0</td>\n",
       "      <td>...</td>\n",
       "      <td>1090000</td>\n",
       "      <td>1100000</td>\n",
       "      <td>1100000</td>\n",
       "      <td>1100000</td>\n",
       "      <td>1100000</td>\n",
       "      <td>1090000</td>\n",
       "      <td>1090000</td>\n",
       "      <td>1080000</td>\n",
       "      <td>1080000</td>\n",
       "      <td>1080000</td>\n",
       "    </tr>\n",
       "    <tr>\n",
       "      <th>1</th>\n",
       "      <td>Albania</td>\n",
       "      <td>13500.0</td>\n",
       "      <td>13600.0</td>\n",
       "      <td>13600.0</td>\n",
       "      <td>13600.0</td>\n",
       "      <td>13700.0</td>\n",
       "      <td>13700.0</td>\n",
       "      <td>13800.0</td>\n",
       "      <td>13800.0</td>\n",
       "      <td>13900.0</td>\n",
       "      <td>...</td>\n",
       "      <td>36100</td>\n",
       "      <td>35000</td>\n",
       "      <td>34400</td>\n",
       "      <td>34500</td>\n",
       "      <td>35000</td>\n",
       "      <td>35900</td>\n",
       "      <td>37000</td>\n",
       "      <td>38000</td>\n",
       "      <td>38900</td>\n",
       "      <td>39500</td>\n",
       "    </tr>\n",
       "    <tr>\n",
       "      <th>2</th>\n",
       "      <td>Algeria</td>\n",
       "      <td>120000.0</td>\n",
       "      <td>121000.0</td>\n",
       "      <td>121000.0</td>\n",
       "      <td>122000.0</td>\n",
       "      <td>122000.0</td>\n",
       "      <td>123000.0</td>\n",
       "      <td>123000.0</td>\n",
       "      <td>123000.0</td>\n",
       "      <td>124000.0</td>\n",
       "      <td>...</td>\n",
       "      <td>735000</td>\n",
       "      <td>778000</td>\n",
       "      <td>820000</td>\n",
       "      <td>859000</td>\n",
       "      <td>893000</td>\n",
       "      <td>919000</td>\n",
       "      <td>936000</td>\n",
       "      <td>944000</td>\n",
       "      <td>944000</td>\n",
       "      <td>936000</td>\n",
       "    </tr>\n",
       "    <tr>\n",
       "      <th>3</th>\n",
       "      <td>Angola</td>\n",
       "      <td>74700.0</td>\n",
       "      <td>74700.0</td>\n",
       "      <td>74700.0</td>\n",
       "      <td>74700.0</td>\n",
       "      <td>74700.0</td>\n",
       "      <td>74700.0</td>\n",
       "      <td>74700.0</td>\n",
       "      <td>74800.0</td>\n",
       "      <td>74800.0</td>\n",
       "      <td>...</td>\n",
       "      <td>915000</td>\n",
       "      <td>940000</td>\n",
       "      <td>964000</td>\n",
       "      <td>988000</td>\n",
       "      <td>1010000</td>\n",
       "      <td>1030000</td>\n",
       "      <td>1060000</td>\n",
       "      <td>1080000</td>\n",
       "      <td>1100000</td>\n",
       "      <td>1130000</td>\n",
       "    </tr>\n",
       "    <tr>\n",
       "      <th>4</th>\n",
       "      <td>Antigua and Barbuda</td>\n",
       "      <td>1310.0</td>\n",
       "      <td>1310.0</td>\n",
       "      <td>1310.0</td>\n",
       "      <td>1310.0</td>\n",
       "      <td>1310.0</td>\n",
       "      <td>1310.0</td>\n",
       "      <td>1310.0</td>\n",
       "      <td>1300.0</td>\n",
       "      <td>1300.0</td>\n",
       "      <td>...</td>\n",
       "      <td>1520</td>\n",
       "      <td>1510</td>\n",
       "      <td>1500</td>\n",
       "      <td>1490</td>\n",
       "      <td>1480</td>\n",
       "      <td>1480</td>\n",
       "      <td>1480</td>\n",
       "      <td>1480</td>\n",
       "      <td>1480</td>\n",
       "      <td>1490</td>\n",
       "    </tr>\n",
       "  </tbody>\n",
       "</table>\n",
       "<p>5 rows × 217 columns</p>\n",
       "</div>"
      ],
      "text/plain": [
       "               country      1800      1801      1802      1803      1804  \\\n",
       "0          Afghanistan  158000.0  158000.0  158000.0  158000.0  158000.0   \n",
       "1              Albania   13500.0   13600.0   13600.0   13600.0   13700.0   \n",
       "2              Algeria  120000.0  121000.0  121000.0  122000.0  122000.0   \n",
       "3               Angola   74700.0   74700.0   74700.0   74700.0   74700.0   \n",
       "4  Antigua and Barbuda    1310.0    1310.0    1310.0    1310.0    1310.0   \n",
       "\n",
       "       1805      1806      1807      1808   ...        2006     2007     2008  \\\n",
       "0  158000.0  158000.0  158000.0  158000.0   ...     1090000  1100000  1100000   \n",
       "1   13700.0   13800.0   13800.0   13900.0   ...       36100    35000    34400   \n",
       "2  123000.0  123000.0  123000.0  124000.0   ...      735000   778000   820000   \n",
       "3   74700.0   74700.0   74800.0   74800.0   ...      915000   940000   964000   \n",
       "4    1310.0    1310.0    1300.0    1300.0   ...        1520     1510     1500   \n",
       "\n",
       "      2009     2010     2011     2012     2013     2014     2015  \n",
       "0  1100000  1100000  1090000  1090000  1080000  1080000  1080000  \n",
       "1    34500    35000    35900    37000    38000    38900    39500  \n",
       "2   859000   893000   919000   936000   944000   944000   936000  \n",
       "3   988000  1010000  1030000  1060000  1080000  1100000  1130000  \n",
       "4     1490     1480     1480     1480     1480     1480     1490  \n",
       "\n",
       "[5 rows x 217 columns]"
      ]
     },
     "execution_count": 4,
     "metadata": {},
     "output_type": "execute_result"
    }
   ],
   "source": [
    "df_new_birth.head()"
   ]
  },
  {
   "cell_type": "code",
   "execution_count": 5,
   "metadata": {
    "scrolled": true
   },
   "outputs": [
    {
     "data": {
      "text/html": [
       "<div>\n",
       "<style scoped>\n",
       "    .dataframe tbody tr th:only-of-type {\n",
       "        vertical-align: middle;\n",
       "    }\n",
       "\n",
       "    .dataframe tbody tr th {\n",
       "        vertical-align: top;\n",
       "    }\n",
       "\n",
       "    .dataframe thead th {\n",
       "        text-align: right;\n",
       "    }\n",
       "</style>\n",
       "<table border=\"1\" class=\"dataframe\">\n",
       "  <thead>\n",
       "    <tr style=\"text-align: right;\">\n",
       "      <th></th>\n",
       "      <th>country</th>\n",
       "      <th>1800</th>\n",
       "      <th>1801</th>\n",
       "      <th>1802</th>\n",
       "      <th>1803</th>\n",
       "      <th>1804</th>\n",
       "      <th>1805</th>\n",
       "      <th>1806</th>\n",
       "      <th>1807</th>\n",
       "      <th>1808</th>\n",
       "      <th>...</th>\n",
       "      <th>2091</th>\n",
       "      <th>2092</th>\n",
       "      <th>2093</th>\n",
       "      <th>2094</th>\n",
       "      <th>2095</th>\n",
       "      <th>2096</th>\n",
       "      <th>2097</th>\n",
       "      <th>2098</th>\n",
       "      <th>2099</th>\n",
       "      <th>2100</th>\n",
       "    </tr>\n",
       "  </thead>\n",
       "  <tbody>\n",
       "    <tr>\n",
       "      <th>0</th>\n",
       "      <td>Afghanistan</td>\n",
       "      <td>7.00</td>\n",
       "      <td>7.00</td>\n",
       "      <td>7.00</td>\n",
       "      <td>7.00</td>\n",
       "      <td>7.00</td>\n",
       "      <td>7.00</td>\n",
       "      <td>7.00</td>\n",
       "      <td>7.00</td>\n",
       "      <td>7.00</td>\n",
       "      <td>...</td>\n",
       "      <td>1.74</td>\n",
       "      <td>1.74</td>\n",
       "      <td>1.74</td>\n",
       "      <td>1.74</td>\n",
       "      <td>1.74</td>\n",
       "      <td>1.74</td>\n",
       "      <td>1.74</td>\n",
       "      <td>1.74</td>\n",
       "      <td>1.74</td>\n",
       "      <td>1.74</td>\n",
       "    </tr>\n",
       "    <tr>\n",
       "      <th>1</th>\n",
       "      <td>Albania</td>\n",
       "      <td>4.60</td>\n",
       "      <td>4.60</td>\n",
       "      <td>4.60</td>\n",
       "      <td>4.60</td>\n",
       "      <td>4.60</td>\n",
       "      <td>4.60</td>\n",
       "      <td>4.60</td>\n",
       "      <td>4.60</td>\n",
       "      <td>4.60</td>\n",
       "      <td>...</td>\n",
       "      <td>1.78</td>\n",
       "      <td>1.78</td>\n",
       "      <td>1.78</td>\n",
       "      <td>1.79</td>\n",
       "      <td>1.79</td>\n",
       "      <td>1.79</td>\n",
       "      <td>1.79</td>\n",
       "      <td>1.79</td>\n",
       "      <td>1.79</td>\n",
       "      <td>1.79</td>\n",
       "    </tr>\n",
       "    <tr>\n",
       "      <th>2</th>\n",
       "      <td>Algeria</td>\n",
       "      <td>6.99</td>\n",
       "      <td>6.99</td>\n",
       "      <td>6.99</td>\n",
       "      <td>6.99</td>\n",
       "      <td>6.99</td>\n",
       "      <td>6.99</td>\n",
       "      <td>6.99</td>\n",
       "      <td>6.99</td>\n",
       "      <td>6.99</td>\n",
       "      <td>...</td>\n",
       "      <td>1.86</td>\n",
       "      <td>1.86</td>\n",
       "      <td>1.86</td>\n",
       "      <td>1.86</td>\n",
       "      <td>1.86</td>\n",
       "      <td>1.86</td>\n",
       "      <td>1.86</td>\n",
       "      <td>1.86</td>\n",
       "      <td>1.86</td>\n",
       "      <td>1.86</td>\n",
       "    </tr>\n",
       "    <tr>\n",
       "      <th>3</th>\n",
       "      <td>Angola</td>\n",
       "      <td>6.93</td>\n",
       "      <td>6.93</td>\n",
       "      <td>6.93</td>\n",
       "      <td>6.93</td>\n",
       "      <td>6.93</td>\n",
       "      <td>6.93</td>\n",
       "      <td>6.93</td>\n",
       "      <td>6.94</td>\n",
       "      <td>6.94</td>\n",
       "      <td>...</td>\n",
       "      <td>2.54</td>\n",
       "      <td>2.52</td>\n",
       "      <td>2.50</td>\n",
       "      <td>2.48</td>\n",
       "      <td>2.47</td>\n",
       "      <td>2.45</td>\n",
       "      <td>2.43</td>\n",
       "      <td>2.42</td>\n",
       "      <td>2.40</td>\n",
       "      <td>2.40</td>\n",
       "    </tr>\n",
       "    <tr>\n",
       "      <th>4</th>\n",
       "      <td>Antigua and Barbuda</td>\n",
       "      <td>5.00</td>\n",
       "      <td>5.00</td>\n",
       "      <td>4.99</td>\n",
       "      <td>4.99</td>\n",
       "      <td>4.99</td>\n",
       "      <td>4.98</td>\n",
       "      <td>4.98</td>\n",
       "      <td>4.97</td>\n",
       "      <td>4.97</td>\n",
       "      <td>...</td>\n",
       "      <td>1.81</td>\n",
       "      <td>1.81</td>\n",
       "      <td>1.81</td>\n",
       "      <td>1.81</td>\n",
       "      <td>1.81</td>\n",
       "      <td>1.81</td>\n",
       "      <td>1.81</td>\n",
       "      <td>1.82</td>\n",
       "      <td>1.82</td>\n",
       "      <td>1.82</td>\n",
       "    </tr>\n",
       "  </tbody>\n",
       "</table>\n",
       "<p>5 rows × 302 columns</p>\n",
       "</div>"
      ],
      "text/plain": [
       "               country  1800  1801  1802  1803  1804  1805  1806  1807  1808  \\\n",
       "0          Afghanistan  7.00  7.00  7.00  7.00  7.00  7.00  7.00  7.00  7.00   \n",
       "1              Albania  4.60  4.60  4.60  4.60  4.60  4.60  4.60  4.60  4.60   \n",
       "2              Algeria  6.99  6.99  6.99  6.99  6.99  6.99  6.99  6.99  6.99   \n",
       "3               Angola  6.93  6.93  6.93  6.93  6.93  6.93  6.93  6.94  6.94   \n",
       "4  Antigua and Barbuda  5.00  5.00  4.99  4.99  4.99  4.98  4.98  4.97  4.97   \n",
       "\n",
       "   ...   2091  2092  2093  2094  2095  2096  2097  2098  2099  2100  \n",
       "0  ...   1.74  1.74  1.74  1.74  1.74  1.74  1.74  1.74  1.74  1.74  \n",
       "1  ...   1.78  1.78  1.78  1.79  1.79  1.79  1.79  1.79  1.79  1.79  \n",
       "2  ...   1.86  1.86  1.86  1.86  1.86  1.86  1.86  1.86  1.86  1.86  \n",
       "3  ...   2.54  2.52  2.50  2.48  2.47  2.45  2.43  2.42  2.40  2.40  \n",
       "4  ...   1.81  1.81  1.81  1.81  1.81  1.81  1.81  1.82  1.82  1.82  \n",
       "\n",
       "[5 rows x 302 columns]"
      ]
     },
     "execution_count": 5,
     "metadata": {},
     "output_type": "execute_result"
    }
   ],
   "source": [
    "df_chil_per_woman.head()"
   ]
  },
  {
   "cell_type": "code",
   "execution_count": 6,
   "metadata": {
    "scrolled": false
   },
   "outputs": [
    {
     "data": {
      "text/html": [
       "<div>\n",
       "<style scoped>\n",
       "    .dataframe tbody tr th:only-of-type {\n",
       "        vertical-align: middle;\n",
       "    }\n",
       "\n",
       "    .dataframe tbody tr th {\n",
       "        vertical-align: top;\n",
       "    }\n",
       "\n",
       "    .dataframe thead th {\n",
       "        text-align: right;\n",
       "    }\n",
       "</style>\n",
       "<table border=\"1\" class=\"dataframe\">\n",
       "  <thead>\n",
       "    <tr style=\"text-align: right;\">\n",
       "      <th></th>\n",
       "      <th>country</th>\n",
       "      <th>1800</th>\n",
       "      <th>1801</th>\n",
       "      <th>1802</th>\n",
       "      <th>1803</th>\n",
       "      <th>1804</th>\n",
       "      <th>1805</th>\n",
       "      <th>1806</th>\n",
       "      <th>1807</th>\n",
       "      <th>1808</th>\n",
       "      <th>...</th>\n",
       "      <th>2031</th>\n",
       "      <th>2032</th>\n",
       "      <th>2033</th>\n",
       "      <th>2034</th>\n",
       "      <th>2035</th>\n",
       "      <th>2036</th>\n",
       "      <th>2037</th>\n",
       "      <th>2038</th>\n",
       "      <th>2039</th>\n",
       "      <th>2040</th>\n",
       "    </tr>\n",
       "  </thead>\n",
       "  <tbody>\n",
       "    <tr>\n",
       "      <th>0</th>\n",
       "      <td>Afghanistan</td>\n",
       "      <td>603</td>\n",
       "      <td>603</td>\n",
       "      <td>603</td>\n",
       "      <td>603</td>\n",
       "      <td>603</td>\n",
       "      <td>603</td>\n",
       "      <td>603</td>\n",
       "      <td>603</td>\n",
       "      <td>603</td>\n",
       "      <td>...</td>\n",
       "      <td>2550</td>\n",
       "      <td>2600</td>\n",
       "      <td>2660</td>\n",
       "      <td>2710</td>\n",
       "      <td>2770</td>\n",
       "      <td>2820</td>\n",
       "      <td>2880</td>\n",
       "      <td>2940</td>\n",
       "      <td>3000</td>\n",
       "      <td>3060</td>\n",
       "    </tr>\n",
       "    <tr>\n",
       "      <th>1</th>\n",
       "      <td>Albania</td>\n",
       "      <td>667</td>\n",
       "      <td>667</td>\n",
       "      <td>667</td>\n",
       "      <td>667</td>\n",
       "      <td>667</td>\n",
       "      <td>668</td>\n",
       "      <td>668</td>\n",
       "      <td>668</td>\n",
       "      <td>668</td>\n",
       "      <td>...</td>\n",
       "      <td>19400</td>\n",
       "      <td>19800</td>\n",
       "      <td>20200</td>\n",
       "      <td>20600</td>\n",
       "      <td>21000</td>\n",
       "      <td>21500</td>\n",
       "      <td>21900</td>\n",
       "      <td>22300</td>\n",
       "      <td>22800</td>\n",
       "      <td>23300</td>\n",
       "    </tr>\n",
       "    <tr>\n",
       "      <th>2</th>\n",
       "      <td>Algeria</td>\n",
       "      <td>715</td>\n",
       "      <td>716</td>\n",
       "      <td>717</td>\n",
       "      <td>718</td>\n",
       "      <td>719</td>\n",
       "      <td>720</td>\n",
       "      <td>721</td>\n",
       "      <td>722</td>\n",
       "      <td>723</td>\n",
       "      <td>...</td>\n",
       "      <td>14300</td>\n",
       "      <td>14600</td>\n",
       "      <td>14900</td>\n",
       "      <td>15200</td>\n",
       "      <td>15500</td>\n",
       "      <td>15800</td>\n",
       "      <td>16100</td>\n",
       "      <td>16500</td>\n",
       "      <td>16800</td>\n",
       "      <td>17100</td>\n",
       "    </tr>\n",
       "    <tr>\n",
       "      <th>3</th>\n",
       "      <td>Andorra</td>\n",
       "      <td>1200</td>\n",
       "      <td>1200</td>\n",
       "      <td>1200</td>\n",
       "      <td>1200</td>\n",
       "      <td>1210</td>\n",
       "      <td>1210</td>\n",
       "      <td>1210</td>\n",
       "      <td>1210</td>\n",
       "      <td>1220</td>\n",
       "      <td>...</td>\n",
       "      <td>73600</td>\n",
       "      <td>75100</td>\n",
       "      <td>76700</td>\n",
       "      <td>78300</td>\n",
       "      <td>79900</td>\n",
       "      <td>81500</td>\n",
       "      <td>83100</td>\n",
       "      <td>84800</td>\n",
       "      <td>86500</td>\n",
       "      <td>88300</td>\n",
       "    </tr>\n",
       "    <tr>\n",
       "      <th>4</th>\n",
       "      <td>Angola</td>\n",
       "      <td>618</td>\n",
       "      <td>620</td>\n",
       "      <td>623</td>\n",
       "      <td>626</td>\n",
       "      <td>628</td>\n",
       "      <td>631</td>\n",
       "      <td>634</td>\n",
       "      <td>637</td>\n",
       "      <td>640</td>\n",
       "      <td>...</td>\n",
       "      <td>6110</td>\n",
       "      <td>6230</td>\n",
       "      <td>6350</td>\n",
       "      <td>6480</td>\n",
       "      <td>6610</td>\n",
       "      <td>6750</td>\n",
       "      <td>6880</td>\n",
       "      <td>7020</td>\n",
       "      <td>7170</td>\n",
       "      <td>7310</td>\n",
       "    </tr>\n",
       "  </tbody>\n",
       "</table>\n",
       "<p>5 rows × 242 columns</p>\n",
       "</div>"
      ],
      "text/plain": [
       "       country  1800  1801  1802  1803  1804  1805  1806  1807  1808  ...    \\\n",
       "0  Afghanistan   603   603   603   603   603   603   603   603   603  ...     \n",
       "1      Albania   667   667   667   667   667   668   668   668   668  ...     \n",
       "2      Algeria   715   716   717   718   719   720   721   722   723  ...     \n",
       "3      Andorra  1200  1200  1200  1200  1210  1210  1210  1210  1220  ...     \n",
       "4       Angola   618   620   623   626   628   631   634   637   640  ...     \n",
       "\n",
       "    2031   2032   2033   2034   2035   2036   2037   2038   2039   2040  \n",
       "0   2550   2600   2660   2710   2770   2820   2880   2940   3000   3060  \n",
       "1  19400  19800  20200  20600  21000  21500  21900  22300  22800  23300  \n",
       "2  14300  14600  14900  15200  15500  15800  16100  16500  16800  17100  \n",
       "3  73600  75100  76700  78300  79900  81500  83100  84800  86500  88300  \n",
       "4   6110   6230   6350   6480   6610   6750   6880   7020   7170   7310  \n",
       "\n",
       "[5 rows x 242 columns]"
      ]
     },
     "execution_count": 6,
     "metadata": {},
     "output_type": "execute_result"
    }
   ],
   "source": [
    "df_income_pp.head()"
   ]
  },
  {
   "cell_type": "markdown",
   "metadata": {},
   "source": [
    "### Data Cleaning \n",
    "- Clean any duplicates or missing values\n",
    "- Reorganize all the tables so all of them have the same year columns and country/region rows"
   ]
  },
  {
   "cell_type": "markdown",
   "metadata": {},
   "source": [
    "**First we will check the duplicates and missing values**"
   ]
  },
  {
   "cell_type": "code",
   "execution_count": 7,
   "metadata": {},
   "outputs": [
    {
     "name": "stdout",
     "output_type": "stream",
     "text": [
      "0\n",
      "0\n",
      "0\n",
      "0\n"
     ]
    }
   ],
   "source": [
    "# First check if there are duplicates\n",
    "print(sum(df_ppl_growth.duplicated()))\n",
    "print(sum(df_new_birth.duplicated()))\n",
    "print(sum(df_chil_per_woman.duplicated()))\n",
    "print(sum(df_income_pp.duplicated()))"
   ]
  },
  {
   "cell_type": "code",
   "execution_count": 8,
   "metadata": {},
   "outputs": [
    {
     "name": "stdout",
     "output_type": "stream",
     "text": [
      "True\n",
      "True\n",
      "False\n",
      "False\n"
     ]
    }
   ],
   "source": [
    "# Check if there are any missing values\n",
    "print(df_ppl_growth.isnull().values.any())\n",
    "print(df_new_birth.isnull().values.any())\n",
    "print(df_chil_per_woman.isnull().values.any())\n",
    "print(df_income_pp.isnull().values.any())"
   ]
  },
  {
   "cell_type": "markdown",
   "metadata": {},
   "source": [
    "**We can see that the tables of population growth and new brith numbers have missing values**"
   ]
  },
  {
   "cell_type": "markdown",
   "metadata": {},
   "source": [
    "**Print out the rows with the missing value for population growth**"
   ]
  },
  {
   "cell_type": "code",
   "execution_count": 9,
   "metadata": {
    "scrolled": false
   },
   "outputs": [
    {
     "data": {
      "text/html": [
       "<div>\n",
       "<style scoped>\n",
       "    .dataframe tbody tr th:only-of-type {\n",
       "        vertical-align: middle;\n",
       "    }\n",
       "\n",
       "    .dataframe tbody tr th {\n",
       "        vertical-align: top;\n",
       "    }\n",
       "\n",
       "    .dataframe thead th {\n",
       "        text-align: right;\n",
       "    }\n",
       "</style>\n",
       "<table border=\"1\" class=\"dataframe\">\n",
       "  <thead>\n",
       "    <tr style=\"text-align: right;\">\n",
       "      <th></th>\n",
       "      <th>country</th>\n",
       "      <th>1961</th>\n",
       "      <th>1962</th>\n",
       "      <th>1963</th>\n",
       "      <th>1964</th>\n",
       "      <th>1965</th>\n",
       "      <th>1966</th>\n",
       "      <th>1967</th>\n",
       "      <th>1968</th>\n",
       "      <th>1969</th>\n",
       "      <th>...</th>\n",
       "      <th>2010</th>\n",
       "      <th>2011</th>\n",
       "      <th>2012</th>\n",
       "      <th>2013</th>\n",
       "      <th>2014</th>\n",
       "      <th>2015</th>\n",
       "      <th>2016</th>\n",
       "      <th>2017</th>\n",
       "      <th>2018</th>\n",
       "      <th>2019</th>\n",
       "    </tr>\n",
       "  </thead>\n",
       "  <tbody>\n",
       "    <tr>\n",
       "      <th>54</th>\n",
       "      <td>Eritrea</td>\n",
       "      <td>0.0252</td>\n",
       "      <td>0.0259</td>\n",
       "      <td>0.0264</td>\n",
       "      <td>0.0266</td>\n",
       "      <td>0.0265</td>\n",
       "      <td>0.0264</td>\n",
       "      <td>0.0263</td>\n",
       "      <td>0.02640</td>\n",
       "      <td>0.02660</td>\n",
       "      <td>...</td>\n",
       "      <td>0.01610</td>\n",
       "      <td>0.01360</td>\n",
       "      <td>NaN</td>\n",
       "      <td>NaN</td>\n",
       "      <td>NaN</td>\n",
       "      <td>NaN</td>\n",
       "      <td>NaN</td>\n",
       "      <td>NaN</td>\n",
       "      <td>NaN</td>\n",
       "      <td>NaN</td>\n",
       "    </tr>\n",
       "    <tr>\n",
       "      <th>89</th>\n",
       "      <td>Kuwait</td>\n",
       "      <td>0.1110</td>\n",
       "      <td>0.1150</td>\n",
       "      <td>0.1160</td>\n",
       "      <td>0.1130</td>\n",
       "      <td>0.1080</td>\n",
       "      <td>0.1030</td>\n",
       "      <td>0.0982</td>\n",
       "      <td>0.09220</td>\n",
       "      <td>0.08490</td>\n",
       "      <td>...</td>\n",
       "      <td>0.05880</td>\n",
       "      <td>0.05720</td>\n",
       "      <td>0.05550</td>\n",
       "      <td>0.05170</td>\n",
       "      <td>0.04560</td>\n",
       "      <td>0.03840</td>\n",
       "      <td>0.03110</td>\n",
       "      <td>0.02480</td>\n",
       "      <td>0.01980</td>\n",
       "      <td>0.0167</td>\n",
       "    </tr>\n",
       "    <tr>\n",
       "      <th>122</th>\n",
       "      <td>New Zealand</td>\n",
       "      <td>0.0200</td>\n",
       "      <td>0.0254</td>\n",
       "      <td>0.0199</td>\n",
       "      <td>0.0209</td>\n",
       "      <td>0.0165</td>\n",
       "      <td>0.0179</td>\n",
       "      <td>0.0179</td>\n",
       "      <td>0.00877</td>\n",
       "      <td>0.00895</td>\n",
       "      <td>...</td>\n",
       "      <td>0.01110</td>\n",
       "      <td>0.00762</td>\n",
       "      <td>0.00548</td>\n",
       "      <td>0.00768</td>\n",
       "      <td>0.01510</td>\n",
       "      <td>0.01890</td>\n",
       "      <td>0.02100</td>\n",
       "      <td>0.02120</td>\n",
       "      <td>0.00978</td>\n",
       "      <td>0.0156</td>\n",
       "    </tr>\n",
       "    <tr>\n",
       "      <th>132</th>\n",
       "      <td>Palestine</td>\n",
       "      <td>NaN</td>\n",
       "      <td>NaN</td>\n",
       "      <td>NaN</td>\n",
       "      <td>NaN</td>\n",
       "      <td>NaN</td>\n",
       "      <td>NaN</td>\n",
       "      <td>NaN</td>\n",
       "      <td>NaN</td>\n",
       "      <td>NaN</td>\n",
       "      <td>...</td>\n",
       "      <td>0.02600</td>\n",
       "      <td>0.02530</td>\n",
       "      <td>0.02470</td>\n",
       "      <td>0.02400</td>\n",
       "      <td>0.02340</td>\n",
       "      <td>0.02290</td>\n",
       "      <td>0.02250</td>\n",
       "      <td>0.01990</td>\n",
       "      <td>0.02530</td>\n",
       "      <td>0.0251</td>\n",
       "    </tr>\n",
       "    <tr>\n",
       "      <th>149</th>\n",
       "      <td>Serbia</td>\n",
       "      <td>NaN</td>\n",
       "      <td>NaN</td>\n",
       "      <td>NaN</td>\n",
       "      <td>NaN</td>\n",
       "      <td>NaN</td>\n",
       "      <td>NaN</td>\n",
       "      <td>NaN</td>\n",
       "      <td>NaN</td>\n",
       "      <td>NaN</td>\n",
       "      <td>...</td>\n",
       "      <td>-0.00402</td>\n",
       "      <td>-0.00789</td>\n",
       "      <td>-0.00485</td>\n",
       "      <td>-0.00487</td>\n",
       "      <td>-0.00469</td>\n",
       "      <td>-0.00495</td>\n",
       "      <td>-0.00524</td>\n",
       "      <td>-0.00532</td>\n",
       "      <td>-0.00546</td>\n",
       "      <td>-0.0054</td>\n",
       "    </tr>\n",
       "  </tbody>\n",
       "</table>\n",
       "<p>5 rows × 60 columns</p>\n",
       "</div>"
      ],
      "text/plain": [
       "         country    1961    1962    1963    1964    1965    1966    1967  \\\n",
       "54       Eritrea  0.0252  0.0259  0.0264  0.0266  0.0265  0.0264  0.0263   \n",
       "89        Kuwait  0.1110  0.1150  0.1160  0.1130  0.1080  0.1030  0.0982   \n",
       "122  New Zealand  0.0200  0.0254  0.0199  0.0209  0.0165  0.0179  0.0179   \n",
       "132    Palestine     NaN     NaN     NaN     NaN     NaN     NaN     NaN   \n",
       "149       Serbia     NaN     NaN     NaN     NaN     NaN     NaN     NaN   \n",
       "\n",
       "        1968     1969   ...       2010     2011     2012     2013     2014  \\\n",
       "54   0.02640  0.02660   ...    0.01610  0.01360      NaN      NaN      NaN   \n",
       "89   0.09220  0.08490   ...    0.05880  0.05720  0.05550  0.05170  0.04560   \n",
       "122  0.00877  0.00895   ...    0.01110  0.00762  0.00548  0.00768  0.01510   \n",
       "132      NaN      NaN   ...    0.02600  0.02530  0.02470  0.02400  0.02340   \n",
       "149      NaN      NaN   ...   -0.00402 -0.00789 -0.00485 -0.00487 -0.00469   \n",
       "\n",
       "        2015     2016     2017     2018    2019  \n",
       "54       NaN      NaN      NaN      NaN     NaN  \n",
       "89   0.03840  0.03110  0.02480  0.01980  0.0167  \n",
       "122  0.01890  0.02100  0.02120  0.00978  0.0156  \n",
       "132  0.02290  0.02250  0.01990  0.02530  0.0251  \n",
       "149 -0.00495 -0.00524 -0.00532 -0.00546 -0.0054  \n",
       "\n",
       "[5 rows x 60 columns]"
      ]
     },
     "execution_count": 9,
     "metadata": {},
     "output_type": "execute_result"
    }
   ],
   "source": [
    "df_ppl_growth[df_ppl_growth.isnull().any(axis=1)]"
   ]
  },
  {
   "cell_type": "markdown",
   "metadata": {},
   "source": [
    "**Print out the rows with the missing value for new birth numbers**"
   ]
  },
  {
   "cell_type": "code",
   "execution_count": 10,
   "metadata": {
    "scrolled": true
   },
   "outputs": [
    {
     "data": {
      "text/html": [
       "<div>\n",
       "<style scoped>\n",
       "    .dataframe tbody tr th:only-of-type {\n",
       "        vertical-align: middle;\n",
       "    }\n",
       "\n",
       "    .dataframe tbody tr th {\n",
       "        vertical-align: top;\n",
       "    }\n",
       "\n",
       "    .dataframe thead th {\n",
       "        text-align: right;\n",
       "    }\n",
       "</style>\n",
       "<table border=\"1\" class=\"dataframe\">\n",
       "  <thead>\n",
       "    <tr style=\"text-align: right;\">\n",
       "      <th></th>\n",
       "      <th>country</th>\n",
       "      <th>1800</th>\n",
       "      <th>1801</th>\n",
       "      <th>1802</th>\n",
       "      <th>1803</th>\n",
       "      <th>1804</th>\n",
       "      <th>1805</th>\n",
       "      <th>1806</th>\n",
       "      <th>1807</th>\n",
       "      <th>1808</th>\n",
       "      <th>...</th>\n",
       "      <th>2006</th>\n",
       "      <th>2007</th>\n",
       "      <th>2008</th>\n",
       "      <th>2009</th>\n",
       "      <th>2010</th>\n",
       "      <th>2011</th>\n",
       "      <th>2012</th>\n",
       "      <th>2013</th>\n",
       "      <th>2014</th>\n",
       "      <th>2015</th>\n",
       "    </tr>\n",
       "  </thead>\n",
       "  <tbody>\n",
       "    <tr>\n",
       "      <th>151</th>\n",
       "      <td>South Sudan</td>\n",
       "      <td>NaN</td>\n",
       "      <td>NaN</td>\n",
       "      <td>NaN</td>\n",
       "      <td>NaN</td>\n",
       "      <td>NaN</td>\n",
       "      <td>NaN</td>\n",
       "      <td>NaN</td>\n",
       "      <td>NaN</td>\n",
       "      <td>NaN</td>\n",
       "      <td>...</td>\n",
       "      <td>341000</td>\n",
       "      <td>352000</td>\n",
       "      <td>364000</td>\n",
       "      <td>376000</td>\n",
       "      <td>388000</td>\n",
       "      <td>400000</td>\n",
       "      <td>412000</td>\n",
       "      <td>424000</td>\n",
       "      <td>435000</td>\n",
       "      <td>446000</td>\n",
       "    </tr>\n",
       "  </tbody>\n",
       "</table>\n",
       "<p>1 rows × 217 columns</p>\n",
       "</div>"
      ],
      "text/plain": [
       "         country  1800  1801  1802  1803  1804  1805  1806  1807  1808  \\\n",
       "151  South Sudan   NaN   NaN   NaN   NaN   NaN   NaN   NaN   NaN   NaN   \n",
       "\n",
       "      ...      2006    2007    2008    2009    2010    2011    2012    2013  \\\n",
       "151   ...    341000  352000  364000  376000  388000  400000  412000  424000   \n",
       "\n",
       "       2014    2015  \n",
       "151  435000  446000  \n",
       "\n",
       "[1 rows x 217 columns]"
      ]
     },
     "execution_count": 10,
     "metadata": {},
     "output_type": "execute_result"
    }
   ],
   "source": [
    "df_new_birth[df_new_birth.isnull().any(axis=1)]"
   ]
  },
  {
   "cell_type": "markdown",
   "metadata": {},
   "source": [
    "**In this case, fill in with mean values might not be the best solution, considering the impact of filling these missing values. Therefore, we will drop these rows**"
   ]
  },
  {
   "cell_type": "code",
   "execution_count": 11,
   "metadata": {},
   "outputs": [
    {
     "data": {
      "text/plain": [
       "False"
      ]
     },
     "execution_count": 11,
     "metadata": {},
     "output_type": "execute_result"
    }
   ],
   "source": [
    "df_ppl_growth_v1 = df_ppl_growth.dropna()\n",
    "df_ppl_growth_v1.isnull().values.any()"
   ]
  },
  {
   "cell_type": "code",
   "execution_count": 12,
   "metadata": {},
   "outputs": [
    {
     "data": {
      "text/plain": [
       "False"
      ]
     },
     "execution_count": 12,
     "metadata": {},
     "output_type": "execute_result"
    }
   ],
   "source": [
    "df_new_birth_v1 = df_new_birth.dropna()\n",
    "df_new_birth_v1.isnull().values.any()"
   ]
  },
  {
   "cell_type": "markdown",
   "metadata": {},
   "source": [
    "### In order to do the comparison, we need to find all the same years and contries/regions for all the CSV files"
   ]
  },
  {
   "cell_type": "markdown",
   "metadata": {},
   "source": [
    "**Now we will find all the same years and countries/regions in all the tables**"
   ]
  },
  {
   "cell_type": "code",
   "execution_count": 13,
   "metadata": {},
   "outputs": [],
   "source": [
    "# Create lists of countries/regions of other tables for the check\n",
    "check_lst_1 = list(df_new_birth_v1.country)\n",
    "check_lst_2 = list(df_chil_per_woman.country)\n",
    "check_lst_3 = list(df_income_pp.country)"
   ]
  },
  {
   "cell_type": "code",
   "execution_count": 14,
   "metadata": {},
   "outputs": [],
   "source": [
    "# Check the countries/regions in all the tables\n",
    "country_lst = [country for country in list(df_ppl_growth_v1.country) if all([country in check_lst_1, country in check_lst_2, country in check_lst_3])]"
   ]
  },
  {
   "cell_type": "code",
   "execution_count": 15,
   "metadata": {},
   "outputs": [],
   "source": [
    "# Create lists of years of other tables for the check\n",
    "check_lst_4 = [year for year in df_new_birth_v1.columns.values if year != 'country']\n",
    "check_lst_5 = [year for year in df_chil_per_woman.columns.values if year != 'country']\n",
    "check_lst_6 = [year for year in df_income_pp.columns.values if year != 'country']"
   ]
  },
  {
   "cell_type": "code",
   "execution_count": 16,
   "metadata": {},
   "outputs": [],
   "source": [
    "# Check the years in all the tables\n",
    "year_lst = [year for year in df_ppl_growth_v1.columns.values if all([year in check_lst_4, year in check_lst_5, year in check_lst_6])]"
   ]
  },
  {
   "cell_type": "markdown",
   "metadata": {},
   "source": [
    "### After the needed row and column names are found, we will reorganize all the tables and make new tables for the analysis."
   ]
  },
  {
   "cell_type": "code",
   "execution_count": 17,
   "metadata": {
    "scrolled": true
   },
   "outputs": [
    {
     "data": {
      "text/plain": [
       "(178, 55)"
      ]
     },
     "execution_count": 17,
     "metadata": {},
     "output_type": "execute_result"
    }
   ],
   "source": [
    "# Filter the dataframe by the years and countries/regions\n",
    "# Reset the index column to make the analysis easier\n",
    "df_ppl_growth_v1.set_index('country', inplace=True)\n",
    "df_ppl_growth_v2 = df_ppl_growth_v1[df_ppl_growth_v1.index.isin(country_lst)]\n",
    "df_ppl_growth_clean = df_ppl_growth_v2[year_lst]\n",
    "df_ppl_growth_clean.shape"
   ]
  },
  {
   "cell_type": "code",
   "execution_count": 18,
   "metadata": {},
   "outputs": [
    {
     "data": {
      "text/plain": [
       "(178, 55)"
      ]
     },
     "execution_count": 18,
     "metadata": {},
     "output_type": "execute_result"
    }
   ],
   "source": [
    "df_new_birth_v1.set_index('country', inplace=True)\n",
    "df_new_birth_v2 = df_new_birth_v1[df_new_birth_v1.index.isin(country_lst)]\n",
    "df_new_birth_clean = df_new_birth_v2[year_lst]\n",
    "df_new_birth_clean.shape"
   ]
  },
  {
   "cell_type": "code",
   "execution_count": 19,
   "metadata": {},
   "outputs": [
    {
     "data": {
      "text/plain": [
       "(178, 55)"
      ]
     },
     "execution_count": 19,
     "metadata": {},
     "output_type": "execute_result"
    }
   ],
   "source": [
    "df_chil_per_woman.set_index('country', inplace=True)\n",
    "df_chil_per_woman_v1 = df_chil_per_woman[df_chil_per_woman.index.isin(country_lst)]\n",
    "df_chil_per_woman_clean = df_chil_per_woman_v1[year_lst]\n",
    "df_chil_per_woman_clean.shape"
   ]
  },
  {
   "cell_type": "code",
   "execution_count": 20,
   "metadata": {},
   "outputs": [
    {
     "data": {
      "text/plain": [
       "(178, 55)"
      ]
     },
     "execution_count": 20,
     "metadata": {},
     "output_type": "execute_result"
    }
   ],
   "source": [
    "df_income_pp.set_index('country', inplace=True)\n",
    "df_income_pp_v1 = df_income_pp[df_income_pp.index.isin(country_lst)]\n",
    "df_income_pp_clean = df_income_pp_v1[year_lst]\n",
    "df_income_pp_clean.shape"
   ]
  },
  {
   "cell_type": "markdown",
   "metadata": {},
   "source": [
    "### Till this step all the reorganized tables have the same shapes, with the same country names column and year column names. Now we can go further into the analysis step."
   ]
  },
  {
   "cell_type": "markdown",
   "metadata": {},
   "source": [
    "<a id='eda'></a>\n",
    "## Exploratory Data Analysis\n",
    "\n",
    "> The amount of data we have to handle will be too large if we analyze all the countries, in this case, we will use the data of China (the country with the largest population in the world) as an example to answer the questions we raised."
   ]
  },
  {
   "cell_type": "markdown",
   "metadata": {},
   "source": [
    "**We will put all the data relevant to China from the datasets into one table, first we will make a new table from population growth table.**"
   ]
  },
  {
   "cell_type": "code",
   "execution_count": 21,
   "metadata": {
    "scrolled": false
   },
   "outputs": [
    {
     "data": {
      "text/html": [
       "<div>\n",
       "<style scoped>\n",
       "    .dataframe tbody tr th:only-of-type {\n",
       "        vertical-align: middle;\n",
       "    }\n",
       "\n",
       "    .dataframe tbody tr th {\n",
       "        vertical-align: top;\n",
       "    }\n",
       "\n",
       "    .dataframe thead th {\n",
       "        text-align: right;\n",
       "    }\n",
       "</style>\n",
       "<table border=\"1\" class=\"dataframe\">\n",
       "  <thead>\n",
       "    <tr style=\"text-align: right;\">\n",
       "      <th></th>\n",
       "      <th>ppl_growth</th>\n",
       "    </tr>\n",
       "  </thead>\n",
       "  <tbody>\n",
       "    <tr>\n",
       "      <th>1961</th>\n",
       "      <td>-0.0102</td>\n",
       "    </tr>\n",
       "    <tr>\n",
       "      <th>1962</th>\n",
       "      <td>0.0082</td>\n",
       "    </tr>\n",
       "    <tr>\n",
       "      <th>1963</th>\n",
       "      <td>0.0246</td>\n",
       "    </tr>\n",
       "    <tr>\n",
       "      <th>1964</th>\n",
       "      <td>0.0232</td>\n",
       "    </tr>\n",
       "    <tr>\n",
       "      <th>1965</th>\n",
       "      <td>0.0238</td>\n",
       "    </tr>\n",
       "  </tbody>\n",
       "</table>\n",
       "</div>"
      ],
      "text/plain": [
       "      ppl_growth\n",
       "1961     -0.0102\n",
       "1962      0.0082\n",
       "1963      0.0246\n",
       "1964      0.0232\n",
       "1965      0.0238"
      ]
     },
     "execution_count": 21,
     "metadata": {},
     "output_type": "execute_result"
    }
   ],
   "source": [
    "df_china = df_ppl_growth_clean.loc[['China'], :].T\n",
    "\n",
    "# Remove the columns name\n",
    "df_china.columns.name = None\n",
    "\n",
    "# Change the labels to population growth\n",
    "df_china.rename(columns={'China': 'ppl_growth'}, inplace=True)\n",
    "\n",
    "# Check the changes\n",
    "df_china.head()"
   ]
  },
  {
   "cell_type": "markdown",
   "metadata": {},
   "source": [
    "**Add the other datas**"
   ]
  },
  {
   "cell_type": "code",
   "execution_count": 22,
   "metadata": {},
   "outputs": [
    {
     "data": {
      "text/html": [
       "<div>\n",
       "<style scoped>\n",
       "    .dataframe tbody tr th:only-of-type {\n",
       "        vertical-align: middle;\n",
       "    }\n",
       "\n",
       "    .dataframe tbody tr th {\n",
       "        vertical-align: top;\n",
       "    }\n",
       "\n",
       "    .dataframe thead th {\n",
       "        text-align: right;\n",
       "    }\n",
       "</style>\n",
       "<table border=\"1\" class=\"dataframe\">\n",
       "  <thead>\n",
       "    <tr style=\"text-align: right;\">\n",
       "      <th></th>\n",
       "      <th>ppl_growth</th>\n",
       "      <th>new_birth</th>\n",
       "      <th>chil_per_woman</th>\n",
       "      <th>income_pp</th>\n",
       "    </tr>\n",
       "  </thead>\n",
       "  <tbody>\n",
       "    <tr>\n",
       "      <th>1961</th>\n",
       "      <td>-0.0102</td>\n",
       "      <td>25300000</td>\n",
       "      <td>3.28</td>\n",
       "      <td>560</td>\n",
       "    </tr>\n",
       "    <tr>\n",
       "      <th>1962</th>\n",
       "      <td>0.0082</td>\n",
       "      <td>26300000</td>\n",
       "      <td>5.97</td>\n",
       "      <td>569</td>\n",
       "    </tr>\n",
       "    <tr>\n",
       "      <th>1963</th>\n",
       "      <td>0.0246</td>\n",
       "      <td>27300000</td>\n",
       "      <td>7.41</td>\n",
       "      <td>638</td>\n",
       "    </tr>\n",
       "    <tr>\n",
       "      <th>1964</th>\n",
       "      <td>0.0232</td>\n",
       "      <td>28300000</td>\n",
       "      <td>6.12</td>\n",
       "      <td>715</td>\n",
       "    </tr>\n",
       "    <tr>\n",
       "      <th>1965</th>\n",
       "      <td>0.0238</td>\n",
       "      <td>29100000</td>\n",
       "      <td>6.02</td>\n",
       "      <td>774</td>\n",
       "    </tr>\n",
       "  </tbody>\n",
       "</table>\n",
       "</div>"
      ],
      "text/plain": [
       "      ppl_growth  new_birth  chil_per_woman  income_pp\n",
       "1961     -0.0102   25300000            3.28        560\n",
       "1962      0.0082   26300000            5.97        569\n",
       "1963      0.0246   27300000            7.41        638\n",
       "1964      0.0232   28300000            6.12        715\n",
       "1965      0.0238   29100000            6.02        774"
      ]
     },
     "execution_count": 22,
     "metadata": {},
     "output_type": "execute_result"
    }
   ],
   "source": [
    "df_china['new_birth'] = df_new_birth_clean.loc['China', :]\n",
    "df_china['chil_per_woman'] = df_chil_per_woman_clean.loc['China', :]\n",
    "df_china['income_pp'] = df_income_pp_clean.loc['China', :]\n",
    "\n",
    "df_china.head()"
   ]
  },
  {
   "cell_type": "markdown",
   "metadata": {},
   "source": [
    "\n",
    "### Research question 1: How is the population growth related to the new brith numbers, the children per woman and the income per person? Take the example of China?"
   ]
  },
  {
   "cell_type": "markdown",
   "metadata": {
    "collapsed": true
   },
   "source": [
    "**First we will check the line chart of each parameter**"
   ]
  },
  {
   "cell_type": "code",
   "execution_count": 23,
   "metadata": {},
   "outputs": [
    {
     "data": {
      "image/png": "[encoded data removed]",
      "text/plain": [
       "<matplotlib.figure.Figure at 0x7ff13e7ae1d0>"
      ]
     },
     "metadata": {
      "needs_background": "light"
     },
     "output_type": "display_data"
    }
   ],
   "source": [
    "# Plot the line charts for the four columns in the table\n",
    "x_axis = [float(year) for year in df_china.index]\n",
    "    \n",
    "fig, axs = plt.subplots(2, 2, figsize=[14, 8])\n",
    "axs[0, 0].plot(x_axis, df_china['ppl_growth'] * 100)\n",
    "axs[0, 0].axhline(y=0.000, color='k', linestyle='--')\n",
    "axs[0, 0].set_xlabel(\"Year\")\n",
    "axs[0, 0].set_ylabel(\"Population growth (annual %)\")\n",
    "axs[0, 0].set_title(\"Population growth of China in annual percentage\");\n",
    "axs[1, 0].plot(x_axis, df_china['new_birth'])\n",
    "axs[1, 0].set_xlabel(\"Year\")\n",
    "axs[1, 0].set_ylabel(\"New birth (total number, estimated)\")\n",
    "axs[1, 0].set_title(\"Total new birth number of China\")\n",
    "axs[0, 1].plot(x_axis, df_china['chil_per_woman'])\n",
    "axs[0, 1].set_xlabel(\"Year\")\n",
    "axs[0, 1].set_ylabel(\"Children per woman (total fertility)\")\n",
    "axs[0, 1].set_title(\"Children per woman in China\")\n",
    "axs[1, 1].plot(x_axis, df_china['income_pp'])\n",
    "axs[1, 1].set_xlabel(\"Year\")\n",
    "axs[1, 1].set_ylabel(\"Income per person (in international dollars)\")\n",
    "axs[1, 1].set_title(\"Income per person in China\")\n",
    "fig.tight_layout()"
   ]
  },
  {
   "cell_type": "markdown",
   "metadata": {},
   "source": [
    "**From the line charts we can see there are similar trends among all the parameters except for the income per person. Next we will investigate deeper about the relations between the parameters.**"
   ]
  },
  {
   "cell_type": "code",
   "execution_count": 24,
   "metadata": {},
   "outputs": [
    {
     "data": {
      "image/png": "[encoded data removed]",
      "text/plain": [
       "<matplotlib.figure.Figure at 0x7ff13c167f60>"
      ]
     },
     "metadata": {
      "needs_background": "light"
     },
     "output_type": "display_data"
    }
   ],
   "source": [
    "# Plot the scatter plots for the relevant parameters in the table\n",
    "fig, axs = plt.subplots(2, 2, figsize=[10, 8])\n",
    "axs[0, 0].scatter(df_china['new_birth'] , df_china['ppl_growth'] * 100)\n",
    "axs[0, 0].set_xlabel(\"New birth per year\")\n",
    "axs[0, 0].set_ylabel(\"Population growth (annual %) per year\")\n",
    "axs[0, 0].set_title(\"Population growth versus new birth per year\");\n",
    "axs[1, 0].scatter(df_china['chil_per_woman'], df_china['ppl_growth'] * 100)\n",
    "axs[1, 0].set_xlabel(\"Children per woman per year\")\n",
    "axs[1, 0].set_ylabel(\"Population growth (annual %) per year\")\n",
    "axs[1, 0].set_title(\"Population growth versus children per woman per year\")\n",
    "axs[0, 1].scatter(df_china['income_pp'], df_china['ppl_growth'] * 100)\n",
    "axs[0, 1].set_xlabel(\"Income per person (in international dollars) per year\")\n",
    "axs[0, 1].set_ylabel(\"Population growth (annual %) per year\")\n",
    "axs[0, 1].set_title(\"Population growth versus income per person per year\")\n",
    "fig.delaxes(axs[1][1])\n",
    "fig.tight_layout()"
   ]
  },
  {
   "cell_type": "markdown",
   "metadata": {},
   "source": [
    "### Research Question 2: Which factor is related the most to the population growth? Take the example of China?"
   ]
  },
  {
   "cell_type": "markdown",
   "metadata": {},
   "source": [
    "**In these case we check the correlations between all the factors and the population growth.**"
   ]
  },
  {
   "cell_type": "code",
   "execution_count": 25,
   "metadata": {},
   "outputs": [
    {
     "name": "stdout",
     "output_type": "stream",
     "text": [
      "Correlation  between population growth and new birth: 0.7964374493929265.\n",
      "Correlation between population growth and children per woman: 0.7883756667950349.\n",
      "Correlation between population growth and income per person: -0.6051542066325882.\n"
     ]
    }
   ],
   "source": [
    "print(f\"Correlation  between population growth and new birth: {df_china['ppl_growth'].corr(df_china['new_birth'])}.\")\n",
    "print(f\"Correlation between population growth and children per woman: {df_china['ppl_growth'].corr(df_china['chil_per_woman'])}.\")\n",
    "print(f\"Correlation between population growth and income per person: {df_china['ppl_growth'].corr(df_china['income_pp'])}.\")"
   ]
  },
  {
   "cell_type": "markdown",
   "metadata": {},
   "source": [
    "### Research Question 3: How is the number of children per woman distributed across the period? Take the example of China?"
   ]
  },
  {
   "cell_type": "markdown",
   "metadata": {},
   "source": [
    "**First we will round all the floats of of children per woman into intergers, so that we can categorize them.**"
   ]
  },
  {
   "cell_type": "code",
   "execution_count": 26,
   "metadata": {
    "scrolled": true
   },
   "outputs": [
    {
     "data": {
      "text/plain": [
       "Int64Index([1, 2, 3, 4, 5, 6, 7], dtype='int64')"
      ]
     },
     "execution_count": 26,
     "metadata": {},
     "output_type": "execute_result"
    }
   ],
   "source": [
    "child_per_woman_counts = df_china['chil_per_woman'].round(0).astype(int).value_counts().sort_index()\n",
    "child_per_woman_counts.index"
   ]
  },
  {
   "cell_type": "markdown",
   "metadata": {},
   "source": [
    "**Now we create the pie chart to check the distribution**"
   ]
  },
  {
   "cell_type": "code",
   "execution_count": 27,
   "metadata": {},
   "outputs": [
    {
     "data": {
      "image/png": "[encoded data removed]",
      "text/plain": [
       "<matplotlib.figure.Figure at 0x7ff13bdfb0f0>"
      ]
     },
     "metadata": {},
     "output_type": "display_data"
    }
   ],
   "source": [
    "_, axs = plt.subplots(figsize=[8, 8])\n",
    "wedges,_,_ = axs.pie(child_per_woman_counts, autopct=\"%1.1f%%\")\n",
    "axs.set_title('The distribution of year counts for the number of children per woman', fontsize=18)\n",
    "legends = sorted(list(child_per_woman_counts.index))\n",
    "axs.legend(wedges,legends, loc=\"upper right\", fontsize=12);"
   ]
  },
  {
   "cell_type": "markdown",
   "metadata": {},
   "source": [
    "<a id='conclusions'></a>\n",
    "## Conclusions\n",
    "\n",
    "> There is a positive correlation between population growth yearly and new birth number yearly in China.\n",
    "\n",
    "> There is a negative correlation between population growth yearly and income per person yearly in China.\n",
    "\n",
    "> There is a positive correlation between population growth yearly and children per woman yearly in China.\n",
    "\n",
    "> In this analysis, the correlation between between population growth yearly and new birth number yearly is the largest.\n",
    "\n",
    "> It can be seen from the pie chart that around half of the analyzed years in China, in average every woman has 2 children.\n",
    "\n",
    "> **Limitations of this analysis**: The findings are only applied for China, the analyses for the other countries/regions are not included. The correlations do not imply the causations between datasets in this case, further investigations are needed if the reasons between the correlations are requested.\n",
    "\n",
    "\n",
    "## Submitting your Project \n",
    "\n",
    "> Before you submit your project, you need to create a .html or .pdf version of this notebook in the workspace here. To do that, run the code cell below. If it worked correctly, you should get a return code of 0, and you should see the generated .html file in the workspace directory (click on the orange Jupyter icon in the upper left).\n",
    "\n",
    "> Alternatively, you can download this report as .html via the **File** > **Download as** submenu, and then manually upload it into the workspace directory by clicking on the orange Jupyter icon in the upper left, then using the Upload button.\n",
    "\n",
    "> Once you've done this, you can submit your project by clicking on the \"Submit Project\" button in the lower right here. This will create and submit a zip file with this .ipynb doc and the .html or .pdf version you created. Congratulations!"
   ]
  },
  {
   "cell_type": "code",
   "execution_count": 28,
   "metadata": {},
   "outputs": [
    {
     "data": {
      "text/plain": [
       "0"
      ]
     },
     "execution_count": 28,
     "metadata": {},
     "output_type": "execute_result"
    }
   ],
   "source": [
    "from subprocess import call\n",
    "call(['python', '-m', 'nbconvert', 'Investigate_a_Dataset.ipynb'])"
   ]
  }
 ],
 "metadata": {
  "kernelspec": {
   "display_name": "Python 3",
   "language": "python",
   "name": "python3"
  },
  "language_info": {
   "codemirror_mode": {
    "name": "ipython",
    "version": 3
   },
   "file_extension": ".py",
   "mimetype": "text/x-python",
   "name": "python",
   "nbconvert_exporter": "python",
   "pygments_lexer": "ipython3",
   "version": "3.6.3"
  }
 },
 "nbformat": 4,
 "nbformat_minor": 2
}
